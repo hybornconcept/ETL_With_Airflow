{
 "cells": [
  {
   "cell_type": "code",
   "execution_count": 3,
   "metadata": {},
   "outputs": [],
   "source": [
    "LATITUDE = '8.3417'\n",
    "LONGITUDE = '4.9757'\n",
    "POSTGRES_CONN_ID='postgres_default'\n",
    "API_CONN_ID='open_meteo_api'\n",
    "\n"
   ]
  },
  {
   "cell_type": "code",
   "execution_count": 9,
   "metadata": {},
   "outputs": [],
   "source": [
    "import requests\n",
    "\n",
    "def extract_weather_data():\n",
    "        \"\"\"\n",
    "        Extracts weather data from the Open Meteo API.\n",
    "        \"\"\"\n",
    "        # Import required modules\n",
    "        \n",
    "        # Define constants\n",
    "        LATITUDE = 8.3417\n",
    "        LONGITUDE = 4.9757\n",
    "        BASE_URL = \"http://api.open-meteo.com/v1/forecast\"\n",
    "        \n",
    "        ## get the API ENDPOINT\n",
    "        # http://api.open-meteo.com/v1/forecast?latitude=8.3417&longitude=4.9757&current_weather=true\n",
    "        response = requests.get(f\"{BASE_URL}?latitude={LATITUDE}&longitude={LONGITUDE}&current_weather=true\")\n",
    "\n",
    "        if response.status_code == 200:\n",
    "            return response.json()\n",
    "        else:\n",
    "            raise Exception(f\"Failed to fetch weather data: {response.status_code}\")\n"
   ]
  },
  {
   "cell_type": "code",
   "execution_count": 10,
   "metadata": {},
   "outputs": [
    {
     "data": {
      "text/plain": [
       "{'latitude': 8.375,\n",
       " 'longitude': 5.0,\n",
       " 'generationtime_ms': 0.42259693145751953,\n",
       " 'utc_offset_seconds': 0,\n",
       " 'timezone': 'GMT',\n",
       " 'timezone_abbreviation': 'GMT',\n",
       " 'elevation': 415.0,\n",
       " 'current_weather_units': {'time': 'iso8601',\n",
       "  'interval': 'seconds',\n",
       "  'temperature': '°C',\n",
       "  'windspeed': 'km/h',\n",
       "  'winddirection': '°',\n",
       "  'is_day': '',\n",
       "  'weathercode': 'wmo code'},\n",
       " 'current_weather': {'time': '2025-03-31T09:15',\n",
       "  'interval': 900,\n",
       "  'temperature': 29.9,\n",
       "  'windspeed': 17.3,\n",
       "  'winddirection': 227,\n",
       "  'is_day': 1,\n",
       "  'weathercode': 3}}"
      ]
     },
     "execution_count": 10,
     "metadata": {},
     "output_type": "execute_result"
    }
   ],
   "source": [
    "extract_weather_data()"
   ]
  }
 ],
 "metadata": {
  "kernelspec": {
   "display_name": "Python 3",
   "language": "python",
   "name": "python3"
  },
  "language_info": {
   "codemirror_mode": {
    "name": "ipython",
    "version": 3
   },
   "file_extension": ".py",
   "mimetype": "text/x-python",
   "name": "python",
   "nbconvert_exporter": "python",
   "pygments_lexer": "ipython3",
   "version": "3.12.6"
  }
 },
 "nbformat": 4,
 "nbformat_minor": 2
}
